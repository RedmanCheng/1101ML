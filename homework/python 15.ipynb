for i in range(1, 10):
   print('')
   for j in range(1, 10):
      k = i * j
      print('%3s' %k, end='')