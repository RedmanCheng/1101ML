{
 "cells": [
  {
   "cell_type": "code",
   "execution_count": 1,
   "metadata": {},
   "outputs": [
    {
     "name": "stdout",
     "output_type": "stream",
     "text": [
      "Hello, world!\n"
     ]
    }
   ],
   "source": [
    "print(\"Hello, world!\")"
   ]
  },
  {
   "cell_type": "code",
   "execution_count": 2,
   "metadata": {},
   "outputs": [
    {
     "name": "stdout",
     "output_type": "stream",
     "text": [
      "5\n"
     ]
    }
   ],
   "source": [
    "print(2+3)"
   ]
  },
  {
   "cell_type": "code",
   "execution_count": 3,
   "metadata": {},
   "outputs": [
    {
     "name": "stdout",
     "output_type": "stream",
     "text": [
      "2+3 5\n"
     ]
    }
   ],
   "source": [
    "print(\"2+3\", 2+3)"
   ]
  },
  {
   "cell_type": "code",
   "execution_count": 4,
   "metadata": {},
   "outputs": [],
   "source": [
    "x, y, z =1, 2, 3"
   ]
  },
  {
   "cell_type": "code",
   "execution_count": 2,
   "metadata": {},
   "outputs": [
    {
     "name": "stdout",
     "output_type": "stream",
     "text": [
      "0\n",
      "1\n",
      "2\n",
      "3\n",
      "4\n"
     ]
    }
   ],
   "source": [
    "for i in range(0, 5):\n",
    "    print(i)"
   ]
  },
  {
   "cell_type": "code",
   "execution_count": 10,
   "metadata": {},
   "outputs": [],
   "source": [
    "def greet(person):\n",
    "    print(\"Hello\", person)\n",
    "    print(\"How are you?\")"
   ]
  },
  {
   "cell_type": "code",
   "execution_count": 11,
   "metadata": {},
   "outputs": [
    {
     "name": "stdout",
     "output_type": "stream",
     "text": [
      "Hello John\n",
      "How are you?\n"
     ]
    }
   ],
   "source": [
    "greet(\"John\")"
   ]
  },
  {
   "cell_type": "code",
   "execution_count": 12,
   "metadata": {},
   "outputs": [
    {
     "data": {
      "text/plain": [
       "<function __main__.greet(person)>"
      ]
     },
     "execution_count": 12,
     "metadata": {},
     "output_type": "execute_result"
    }
   ],
   "source": [
    "greet"
   ]
  },
  {
   "cell_type": "code",
   "execution_count": 3,
   "metadata": {},
   "outputs": [
    {
     "name": "stdout",
     "output_type": "stream",
     "text": [
      "This program illustrates a chastic function.\n",
      "Enter a number between 0 and 10.5\n",
      "0.975\n",
      "0.09506250000000008\n",
      "0.33549992226562525\n",
      "0.8694649252590003\n",
      "0.44263310911310905\n",
      "0.962165255336889\n",
      "0.1419727793616139\n",
      "0.4750843861996143\n",
      "0.9725789275369049\n",
      "0.1040097132674683\n"
     ]
    }
   ],
   "source": [
    "def chaos():\n",
    "    print(\"This program illustrates a chastic function.\")\n",
    "    x=eval(input(\"Enter a number between 0 and 1\"))\n",
    "    for i in range(10):\n",
    "        x=3.9*x*(1-x)\n",
    "        print(x)\n",
    "chaos()"
   ]
  },
  {
   "cell_type": "code",
   "execution_count": 4,
   "metadata": {},
   "outputs": [
    {
     "name": "stdout",
     "output_type": "stream",
     "text": [
      "What is the Celsius temperature?32\n",
      "The temperature is 89.6 degree Fahrenheit.\n"
     ]
    }
   ],
   "source": [
    "def convert():\n",
    "    celsius=eval(input(\"What is the Celsius temperature?\"))\n",
    "    fahrenheit=9/5*celsius+32\n",
    "    print(\"The temperature is\", fahrenheit,\"degree Fahrenheit.\")\n",
    "convert()"
   ]
  },
  {
   "cell_type": "code",
   "execution_count": 4,
   "metadata": {},
   "outputs": [
    {
     "name": "stdout",
     "output_type": "stream",
     "text": [
      "The program computes the average of two exam scores.\n",
      "Enter two scores separated by a comma:98,17\n",
      "The average of the scores is: 57.5\n"
     ]
    }
   ],
   "source": [
    "def avg2():\n",
    "    print(\"The program computes the average of two exam scores.\")\n",
    "    score1, score2=eval(input(\"Enter two scores separated by a comma:\"))\n",
    "    average=(score1+score2)/2\n",
    "    print(\"The average of the scores is:\", average)\n",
    "avg2()"
   ]
  },
  {
   "cell_type": "code",
   "execution_count": 6,
   "metadata": {},
   "outputs": [
    {
     "name": "stdout",
     "output_type": "stream",
     "text": [
      "The program calculates the future value of a year investment.\n",
      "Enter the initial principal:10000\n",
      "Enter the annual interest rate:0.03\n",
      "The value in 10 year is: 13439.16379344122\n"
     ]
    }
   ],
   "source": [
    "def futval1():\n",
    "    print(\"The program calculates the future value of a year investment.\")\n",
    "    principal=eval(input(\"Enter the initial principal:\"))\n",
    "    apr=eval(input(\"Enter the annual interest rate:\"))\n",
    "    for i in range(10):\n",
    "        principal=principal*(1+apr)\n",
    "    print(\"The value in 10 year is:\", principal)\n",
    "futval1()"
   ]
  },
  {
   "cell_type": "code",
   "execution_count": 7,
   "metadata": {},
   "outputs": [
    {
     "name": "stdout",
     "output_type": "stream",
     "text": [
      "Change Counter\n",
      "Please enter the count of each coin types\n",
      "Quarters:10\n",
      "Dimes:10\n",
      "Nickles:10\n",
      "Pennies:10\n",
      "The total value of your change is 4.1\n"
     ]
    }
   ],
   "source": [
    "def change():\n",
    "    print(\"Change Counter\")\n",
    "    print(\"Please enter the count of each coin types\")\n",
    "    quarters=eval(input(\"Quarters:\"))\n",
    "    dimes=eval(input(\"Dimes:\"))\n",
    "    nickles=eval(input(\"Nickles:\"))\n",
    "    pennies=eval(input(\"Pennies:\"))\n",
    "    total=quarters*.25+dimes*.1+nickles*.05+pennies*.01\n",
    "    print(\"The total value of your change is\", total)\n",
    "change()"
   ]
  },
  {
   "cell_type": "code",
   "execution_count": 11,
   "metadata": {},
   "outputs": [
    {
     "name": "stdout",
     "output_type": "stream",
     "text": [
      "The program finds the real solution to a quadratic\n",
      "\n",
      "Please enter the coefficients(a,b,c):3,10,3\n",
      "\n",
      "The solutios are: -0.3333333333333333 -0.3333333333333333\n"
     ]
    }
   ],
   "source": [
    "import math\n",
    "def quadratic():\n",
    "    print(\"The program finds the real solution to a quadratic\")\n",
    "    print()\n",
    "    a,b,c=eval(input(\"Please enter the coefficients(a,b,c):\"))\n",
    "    discRoot=math.sqrt(b*b-4*a*c)\n",
    "    root1=(-b+discRoot)/(2*a)\n",
    "    root2=(-b+discRoot)/(2*a)\n",
    "    print()\n",
    "    print(\"The solutios are:\", root1, root2)\n",
    "quadratic()"
   ]
  },
  {
   "cell_type": "code",
   "execution_count": 12,
   "metadata": {},
   "outputs": [
    {
     "name": "stdout",
     "output_type": "stream",
     "text": [
      "Please fact=enter a whole number:3\n",
      "The factoral of 3 is 3\n",
      "The factoral of 3 is 6\n"
     ]
    }
   ],
   "source": [
    "def factorial():\n",
    "    n=eval(input(\"Please fact=enter a whole number:\"))\n",
    "    fact=1\n",
    "    for factor in range(n,1,-1):\n",
    "        fact=fact*factor\n",
    "        print(\"The factoral of\",n, \"is\",fact)\n",
    "factorial()"
   ]
  },
  {
   "cell_type": "code",
   "execution_count": 13,
   "metadata": {},
   "outputs": [
    {
     "name": "stdout",
     "output_type": "stream",
     "text": [
      "This program generates computer usernames.\n",
      "\n",
      "Please enter your first name(all lowercase):chunghsien\n",
      "Please enter your last name(all lowercase):tsai\n",
      "Your name is: ctsai\n"
     ]
    }
   ],
   "source": [
    "def username():\n",
    "    print(\"This program generates computer usernames.\\n\")\n",
    "    first =input(\"Please enter your first name(all lowercase):\")\n",
    "    last=input(\"Please enter your last name(all lowercase):\")\n",
    "    uname=first[0]+last[:7]\n",
    "    print(\"Your name is:\", uname)\n",
    "username()"
   ]
  },
  {
   "cell_type": "code",
   "execution_count": 16,
   "metadata": {},
   "outputs": [
    {
     "name": "stdout",
     "output_type": "stream",
     "text": [
      "Enter a month number(1-12):3\n",
      "The month abbreviation is Mar.\n"
     ]
    }
   ],
   "source": [
    "def month():\n",
    "    months=\"JanFebMarAprMayJunJulAugSepOctNovDec\"\n",
    "    n=eval(input(\"Enter a month number(1-12):\"))\n",
    "    pos=(n-1)*3\n",
    "    monthAbbrev=months[pos:pos+3]\n",
    "    print(\"The month abbreviation is\", monthAbbrev+\".\")\n",
    "month()"
   ]
  },
  {
   "cell_type": "code",
   "execution_count": 18,
   "metadata": {},
   "outputs": [
    {
     "name": "stdout",
     "output_type": "stream",
     "text": [
      "The program converts a textural message into a sequence of numbers representing the Unicode encoding of the message.\n",
      "\n",
      "Please enter the message to encode:IMISSYOU\n",
      "\n",
      " Here are the Unicode codes:\n",
      "73 77 73 83 83 89 79 85 \n"
     ]
    }
   ],
   "source": [
    "def text2numbers():\n",
    "    print(\"The program converts a textural message into a sequence of numbers representing the Unicode encoding of the message.\\n\")\n",
    "    message = input(\"Please enter the message to encode:\")\n",
    "    print(\"\\n Here are the Unicode codes:\")\n",
    "    for ch in message:\n",
    "        print(ord(ch), end=\" \")\n",
    "    print()\n",
    "text2numbers()   "
   ]
  },
  {
   "cell_type": "code",
   "execution_count": 19,
   "metadata": {},
   "outputs": [
    {
     "name": "stdout",
     "output_type": "stream",
     "text": [
      "The program converts a sequence of Unicode numbers into the string of text that it represents.\n",
      "\n",
      "Please enter the Unicode-coded message:73 77 73 83 83 89 79 85\n",
      "\n",
      "The decoded message is: IMISSYOU\n"
     ]
    }
   ],
   "source": [
    "def numbers2text():\n",
    "    print(\"The program converts a sequence of Unicode numbers into the string of text that it represents.\\n\")\n",
    "    inString = input(\"Please enter the Unicode-coded message:\")\n",
    "    message=\"\"\n",
    "    for numStr in inString.split():\n",
    "        codeNum=eval(numStr)\n",
    "        message=message+chr(codeNum)\n",
    "    print(\"\\nThe decoded message is:\", message)\n",
    "numbers2text() "
   ]
  },
  {
   "cell_type": "code",
   "execution_count": 20,
   "metadata": {},
   "outputs": [
    {
     "name": "stdout",
     "output_type": "stream",
     "text": [
      "Enter a date (mm/dd/yyyy):09/17/1975\n",
      "The converted date is September 17, 1975\n"
     ]
    }
   ],
   "source": [
    "def dateconvert():\n",
    "    dateStr=input(\"Enter a date (mm/dd/yyyy):\")\n",
    "    monthStr, dayStr, yearStr=dateStr.split(\"/\")\n",
    "    months=[\"January\", \"February\", \"March\", \"April\", \"May\", \"June\", \"July\", \"August\", \"September\", \"October\", \"November\", \"December\"]\n",
    "    monthStr=months[int(monthStr)-1]\n",
    "    print(\"The converted date is\", monthStr, dayStr+\",\",yearStr)\n",
    "dateconvert()"
   ]
  },
  {
   "cell_type": "code",
   "execution_count": 22,
   "metadata": {},
   "outputs": [
    {
     "name": "stdout",
     "output_type": "stream",
     "text": [
      "Enter filename:numbers.dat\n",
      "\n"
     ]
    }
   ],
   "source": [
    "def printfile():\n",
    "    fname=input(\"Enter filename:\")\n",
    "    infile = open(fname, \"r\")\n",
    "    data = infile.read()\n",
    "    print(data)\n",
    "    infile.close()\n",
    "printfile()"
   ]
  },
  {
   "cell_type": "code",
   "execution_count": 24,
   "metadata": {},
   "outputs": [
    {
     "name": "stdout",
     "output_type": "stream",
     "text": [
      "This program creates a file of usernames from a file of names\n",
      "What file are the names in?chung\n",
      "What file should the usernames go in?tsai\n",
      "Usernames have been written to tsai\n"
     ]
    }
   ],
   "source": [
    "def userfile():\n",
    "    print(\"This program creates a file of usernames from a file of names\")\n",
    "    infileName=input(\"What file are the names in?\")\n",
    "    outfileName=input(\"What file should the usernames go in?\")\n",
    "    infile=open(infileName,\"r\")\n",
    "    outfile=open(outfileName,\"w\")\n",
    "    for line in infile:\n",
    "        first, last=line.split()\n",
    "        uname=(first[0]+last[:7].lower())\n",
    "        print(uname, file=outfile)\n",
    "    infile.close()\n",
    "    outfile.close()\n",
    "    print(\"Usernames have been written to\", outfileName)\n",
    "userfile()"
   ]
  },
  {
   "cell_type": "code",
   "execution_count": null,
   "metadata": {},
   "outputs": [],
   "source": []
  }
 ],
 "metadata": {
  "kernelspec": {
   "display_name": "Python 3",
   "language": "python",
   "name": "python3"
  },
  "language_info": {
   "codemirror_mode": {
    "name": "ipython",
    "version": 3
   },
   "file_extension": ".py",
   "mimetype": "text/x-python",
   "name": "python",
   "nbconvert_exporter": "python",
   "pygments_lexer": "ipython3",
   "version": "3.7.3"
  }
 },
 "nbformat": 4,
 "nbformat_minor": 2
}
